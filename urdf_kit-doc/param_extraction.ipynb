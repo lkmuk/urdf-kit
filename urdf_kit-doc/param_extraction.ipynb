{
 "cells": [
  {
   "attachments": {},
   "cell_type": "markdown",
   "metadata": {},
   "source": [
    "# Extraction of robot parameters for multibody kinematics/ dynamics"
   ]
  },
  {
   "cell_type": "code",
   "execution_count": 1,
   "metadata": {},
   "outputs": [],
   "source": [
    "import xml.etree.ElementTree as ET\n",
    "from urdf_kit.graph.tree import kinematic_tree"
   ]
  },
  {
   "cell_type": "code",
   "execution_count": 2,
   "metadata": {},
   "outputs": [],
   "source": [
    "# assuming current directory as the folder containing this file\n",
    "import os\n",
    "iiwa_urdf_fpath = os.path.join(\"..\",\"tests\",\"data\",\"kuka_iiwa\",\"model.urdf\")\n",
    "urdf_root = ET.parse(iiwa_urdf_fpath).getroot()"
   ]
  },
  {
   "attachments": {},
   "cell_type": "markdown",
   "metadata": {},
   "source": [
    "## `kinematic_tree`\n",
    "\n",
    "A high-level API within `urdf_kit` for ...\n",
    "\n",
    "* inspecting/ modifying the kinematic tree topology\n",
    "* extracting (constant) multibody parameters relevant for Jacobians, dynamics computations,..."
   ]
  },
  {
   "cell_type": "code",
   "execution_count": 3,
   "metadata": {},
   "outputs": [],
   "source": [
    "iiwa_mdl = kinematic_tree(urdf_root)"
   ]
  },
  {
   "cell_type": "code",
   "execution_count": 4,
   "metadata": {},
   "outputs": [
    {
     "name": "stdout",
     "output_type": "stream",
     "text": [
      "------------------------------\n",
      "robot name:  lbr_iiwa\n",
      "root link name:  lbr_iiwa_link_0\n",
      " connections: (sorting by  depth_first )\n",
      " (format:  parent ---> [ joint ] ---> child link )\n",
      "   \u001b[32mlbr_iiwa_link_0\u001b[0m --[\u001b[33mlbr_iiwa_joint_1\u001b[0m]--> \u001b[32mlbr_iiwa_link_1\u001b[0m\n",
      "   X_ParentJoint =\n",
      "   1         0         0         0         \n",
      "   0         1         0         0         \n",
      "   0         0         1         0.1575    \n",
      "   0         0         0         1         \n",
      "\n",
      "   \u001b[32mlbr_iiwa_link_1\u001b[0m --[\u001b[33mlbr_iiwa_joint_2\u001b[0m]--> \u001b[32mlbr_iiwa_link_2\u001b[0m\n",
      "   X_ParentJoint =\n",
      "  -1         0        -2.068e-13  0         \n",
      "  -2.068e-13 -4.897e-12  1         0         \n",
      "   0         1         4.897e-12  0.2025    \n",
      "   0         0         0         1         \n",
      "\n",
      "   \u001b[32mlbr_iiwa_link_2\u001b[0m --[\u001b[33mlbr_iiwa_joint_3\u001b[0m]--> \u001b[32mlbr_iiwa_link_3\u001b[0m\n",
      "   X_ParentJoint =\n",
      "  -1         0        -2.068e-13  0         \n",
      "  -2.068e-13 -4.897e-12  1         0.2045    \n",
      "   0         1         4.897e-12  0         \n",
      "   0         0         0         1         \n",
      "\n",
      "   \u001b[32mlbr_iiwa_link_3\u001b[0m --[\u001b[33mlbr_iiwa_joint_4\u001b[0m]--> \u001b[32mlbr_iiwa_link_4\u001b[0m\n",
      "   X_ParentJoint =\n",
      "   1         0         0         0         \n",
      "   0         4.897e-12 -1         0         \n",
      "   0         1         4.897e-12  0.2155    \n",
      "   0         0         0         1         \n",
      "\n",
      "   \u001b[32mlbr_iiwa_link_4\u001b[0m --[\u001b[33mlbr_iiwa_joint_5\u001b[0m]--> \u001b[32mlbr_iiwa_link_5\u001b[0m\n",
      "   X_ParentJoint =\n",
      "  -1         2.068e-13  0         0         \n",
      "   0         4.897e-12  1         0.1845    \n",
      "   2.068e-13  1        -4.897e-12  0         \n",
      "   0         0         0         1         \n",
      "\n",
      "   \u001b[32mlbr_iiwa_link_5\u001b[0m --[\u001b[33mlbr_iiwa_joint_6\u001b[0m]--> \u001b[32mlbr_iiwa_link_6\u001b[0m\n",
      "   X_ParentJoint =\n",
      "   1         0         0         0         \n",
      "   0         4.897e-12 -1         0         \n",
      "   0         1         4.897e-12  0.2155    \n",
      "   0         0         0         1         \n",
      "\n",
      "   \u001b[32mlbr_iiwa_link_6\u001b[0m --[\u001b[33mlbr_iiwa_joint_7\u001b[0m]--> \u001b[32mlbr_iiwa_link_7\u001b[0m\n",
      "   X_ParentJoint =\n",
      "  -1         2.068e-13  0         0         \n",
      "   0         4.897e-12  1         0.081     \n",
      "   2.068e-13  1        -4.897e-12  0         \n",
      "   0         0         0         1         \n",
      "\n"
     ]
    }
   ],
   "source": [
    "iiwa_mdl.print_graph(show_SE3=True)"
   ]
  },
  {
   "attachments": {},
   "cell_type": "markdown",
   "metadata": {},
   "source": [
    "## Parameter extraction\n",
    "\n",
    "### Assumptions for the parameters below:\n",
    "the screw axis and home pose are  \n",
    "* the ones **of** the child body (the second subscript, *B*)\n",
    "* **relative to** the parent body (the first subscript, *A*)\n",
    "* **expressed in** the parent body frame (the superscript, *C*)\n",
    "\n",
    "### The \"body frames\" in questions mean different things.\n",
    "* For kinematics parameters, it is the respective URDF link frames, implied by the respective XML element `<robot/link>`.\n",
    "* For dynamics parameters, it is the respective Center of Mass (CoM)-aligned frames, contained in the respective XML element `<robot/link/inertial/origin>`\n",
    "\n",
    "### spatial math convention:\n",
    "* linear part-first \n",
    "  $$\n",
    "  \\boldsymbol{\\hat \\omega}_{A,B}^{(C)} = \\begin{bmatrix} v_x \\\\ v_y \\\\ v_z \\\\ \\omega_x \\\\ \\omega_y \\\\ \\omega_z \\end{bmatrix}\n",
    "  $$\n",
    "\n",
    "* In the implementation, we will have something like `{physicalQuatity}_AB_C`, \n",
    "\n",
    "  In the example above, `physicalQuatity` is `screwAx`, which is a *normalized* twist \n",
    "  \n",
    "  > Caution: it is not an ordinary Euclidean norm on that 6-vector, consult [2] for the meaning of a twist being normalized)\n",
    "\n",
    "* Useful references:\n",
    "  * [1] https://manipulation.csail.mit.edu/pick.html#monogram\n",
    "  * [2] http://hades.mech.northwestern.edu/index.php/Modern_Robotics\n",
    "  "
   ]
  },
  {
   "cell_type": "code",
   "execution_count": 5,
   "metadata": {},
   "outputs": [
    {
     "name": "stdout",
     "output_type": "stream",
     "text": [
      "==================================================\n",
      "Attempting to remove fixed joints as much as possible\n",
      "==================================================\n",
      "no fixed joints to be removed!\n"
     ]
    }
   ],
   "source": [
    "# probably first fix some \"continuous\" joints (not applicable in this example)\n",
    "iiwa_mdl.merge_fixed_joints() # recommended to do this first, although it's not required in this example"
   ]
  },
  {
   "cell_type": "code",
   "execution_count": 6,
   "metadata": {},
   "outputs": [],
   "source": [
    "iiwa_mdl_dyn = iiwa_mdl.extract_dynamics(base_is_mobile=False)"
   ]
  },
  {
   "cell_type": "code",
   "execution_count": 7,
   "metadata": {},
   "outputs": [
    {
     "data": {
      "text/plain": [
       "False"
      ]
     },
     "execution_count": 7,
     "metadata": {},
     "output_type": "execute_result"
    }
   ],
   "source": [
    "iiwa_mdl_dyn.base_is_mobile"
   ]
  },
  {
   "attachments": {},
   "cell_type": "markdown",
   "metadata": {},
   "source": [
    "Below is the serialization format, see `urdf_kit::graph::params` for more details"
   ]
  },
  {
   "cell_type": "code",
   "execution_count": 8,
   "metadata": {},
   "outputs": [
    {
     "name": "stdout",
     "output_type": "stream",
     "text": [
      "robot_name: lbr_iiwa\n",
      "base_mass: null\n",
      "base_inertia: null\n",
      "joints:\n",
      "- joint_name: lbr_iiwa_joint_1\n",
      "  home_pose:\n",
      "  - [1.0, 0.0, 0.0, 0.1]\n",
      "  - [0.0, 1.0, 0.0, -0.03]\n",
      "  - [0.0, 0.0, 1.0, 0.2075]\n",
      "  - [0.0, 0.0, 0.0, 1.0]\n",
      "  screw_axis: [0.0, -0.1, 0.0, 0.0, 0.0, 1.0]\n",
      "  parent_link_name: lbr_iiwa_link_0\n",
      "  child_link_name: lbr_iiwa_link_1\n",
      "  mass: 4.0\n",
      "  inertia:\n",
      "  - [0.1, 0.0, 0.0]\n",
      "  - [0.0, 0.09, 0.0]\n",
      "  - [0.0, 0.0, 0.02]\n",
      "- joint_name: lbr_iiwa_joint_2\n",
      "  home_pose:\n",
      "  - [-1.0, 0.0, 0.0, -0.00030000000000868655]\n",
      "  - [0.0, 0.0, 1.0, 0.07199999999971105]\n",
      "  - [0.0, 1.0, 0.0, 0.14150000000020568]\n",
      "  - [0.0, 0.0, 0.0, 1.0]\n",
      "  screw_axis: [-0.08249999999985312, 0.0, 0.0, 0.0, 1.0, 0.0]\n",
      "  parent_link_name: lbr_iiwa_link_1\n",
      "  child_link_name: lbr_iiwa_link_2\n",
      "  mass: 4.0\n",
      "  inertia:\n",
      "  - [0.05, 0.0, 0.0]\n",
      "  - [0.0, 0.018, 0.0]\n",
      "  - [0.0, 0.0, 0.044]\n",
      "- joint_name: lbr_iiwa_joint_3\n",
      "  home_pose:\n",
      "  - [-1.0, 0.0, 0.0, -0.000300000000026887]\n",
      "  - [0.0, 0.0, 1.0, 0.2754999999998531]\n",
      "  - [0.0, 1.0, 0.0, -0.011999999999363447]\n",
      "  - [0.0, 0.0, 0.0, 1.0]\n",
      "  screw_axis: [0.042000000000712454, 0.0, -0.00029999999996990724, 0.0, 1.0, 0.0]\n",
      "  parent_link_name: lbr_iiwa_link_2\n",
      "  child_link_name: lbr_iiwa_link_3\n",
      "  mass: 3.0\n",
      "  inertia:\n",
      "  - [0.08, 0.0, 0.0]\n",
      "  - [0.0, 0.075, 0.0]\n",
      "  - [0.0, 0.0, 0.01]\n",
      "- joint_name: lbr_iiwa_joint_4\n",
      "  home_pose:\n",
      "  - [1.0, 0.0, 0.0, 0.0]\n",
      "  - [0.0, 0.0, -1.0, -0.06399999999967193]\n",
      "  - [0.0, 1.0, 0.0, 0.15250000000016647]\n",
      "  - [0.0, 0.0, 0.0, 1.0]\n",
      "  screw_axis: [0.08549999999985308, 0.0, 0.0, 0.0, -1.0, 0.0]\n",
      "  parent_link_name: lbr_iiwa_link_3\n",
      "  child_link_name: lbr_iiwa_link_4\n",
      "  mass: 2.7\n",
      "  inertia:\n",
      "  - [0.03, 0.0, 0.0]\n",
      "  - [0.0, 0.01, 0.0]\n",
      "  - [0.0, 0.0, 0.029]\n",
      "- joint_name: lbr_iiwa_joint_5\n",
      "  home_pose:\n",
      "  - [-1.0, 0.0, 0.0, -9.999999999565672e-05]\n",
      "  - [0.0, 0.0, 1.0, 0.1935000000001028]\n",
      "  - [0.0, 1.0, 0.0, -0.01300000000037212]\n",
      "  - [0.0, 0.0, 0.0, 1.0]\n",
      "  screw_axis: [0.03399999999942465, 0.0, 0.0, 0.0, 1.0, 0.0]\n",
      "  parent_link_name: lbr_iiwa_link_4\n",
      "  child_link_name: lbr_iiwa_link_5\n",
      "  mass: 1.7\n",
      "  inertia:\n",
      "  - [0.02, 0.0, 0.0]\n",
      "  - [0.0, 0.018, 0.0]\n",
      "  - [0.0, 0.0, 0.005]\n",
      "- joint_name: lbr_iiwa_joint_6\n",
      "  home_pose:\n",
      "  - [1.0, 0.0, 0.0, -0.0001]\n",
      "  - [0.0, 0.0, -1.0, -0.021399999999997064]\n",
      "  - [0.0, 1.0, 0.0, 0.14010000000000197]\n",
      "  - [0.0, 0.0, 0.0, 1.0]\n",
      "  screw_axis: [0.13949999999989715, 0.0, 0.0001, 0.0, -1.0, 0.0]\n",
      "  parent_link_name: lbr_iiwa_link_5\n",
      "  child_link_name: lbr_iiwa_link_6\n",
      "  mass: 1.8\n",
      "  inertia:\n",
      "  - [0.005, 0.0, 0.0]\n",
      "  - [0.0, 0.0036, 0.0]\n",
      "  - [0.0, 0.0, 0.0047]\n",
      "- joint_name: lbr_iiwa_joint_7\n",
      "  home_pose:\n",
      "  - [-1.0, 0.0, 0.0, 0.0]\n",
      "  - [0.0, 0.0, 1.0, 0.1004]\n",
      "  - [0.0, 1.0, 0.0, -0.0004000000000979318]\n",
      "  - [0.0, 0.0, 0.0, 1.0]\n",
      "  screw_axis: [0.0003999999996063143, 0.0, 0.0, 0.0, 1.0, 0.0]\n",
      "  parent_link_name: lbr_iiwa_link_6\n",
      "  child_link_name: lbr_iiwa_link_7\n",
      "  mass: 0.3\n",
      "  inertia:\n",
      "  - [0.001, 0.0, 0.0]\n",
      "  - [0.0, 0.001, 0.0]\n",
      "  - [0.0, 0.0, 0.001]\n",
      "\n"
     ]
    }
   ],
   "source": [
    "print(iiwa_mdl_dyn)"
   ]
  },
  {
   "cell_type": "code",
   "execution_count": null,
   "metadata": {},
   "outputs": [],
   "source": []
  }
 ],
 "metadata": {
  "kernelspec": {
   "display_name": "thesis",
   "language": "python",
   "name": "thesis"
  },
  "language_info": {
   "codemirror_mode": {
    "name": "ipython",
    "version": 3
   },
   "file_extension": ".py",
   "mimetype": "text/x-python",
   "name": "python",
   "nbconvert_exporter": "python",
   "pygments_lexer": "ipython3",
   "version": "3.9.5"
  },
  "orig_nbformat": 4,
  "vscode": {
   "interpreter": {
    "hash": "e55666fbbf217aa3df372b978577f47b6009e2f78e2ec76a584f49cd54a1e62c"
   }
  }
 },
 "nbformat": 4,
 "nbformat_minor": 2
}
